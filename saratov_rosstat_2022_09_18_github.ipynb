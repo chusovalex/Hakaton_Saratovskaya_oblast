{
 "cells": [
  {
   "cell_type": "markdown",
   "metadata": {},
   "source": [
    "# Поиск и классификация товаров народного потребления"
   ]
  },
  {
   "cell_type": "markdown",
   "metadata": {},
   "source": [
    "**Введение:**\n",
    "\n",
    "Формирование тенденций потребления товаров у населения — важный аспект для анализа состояния страны. Такая информация может многое рассказать о средней заработной плате на выбранной территории, потребительской способности населения, количестве покупок конкретных товаров.\n",
    "\n",
    "Вот только у поставщиков не существует общего ГОСТа для заведения позиций товара. Знакомый нам кочан белой капусты может быть записан как: «белокачанная капуста», «капуста белокочанная», «капуст. бел. коч.». Это может создавать ошибки при формировании отчетов и усложнять анализ данных.\n",
    "\n",
    "**Цель задачи:**\n",
    "\n",
    "Поиск и классификация конкретных категорий товаров в огромном наборе различных наименований. Необходимо разметить следующие категории:\n",
    "- Хлебные изделия\n",
    "- Напитки газированные\n",
    "- Вода\n",
    "- Молоко 2.5-3.2 %\n",
    "- Молочные продукты\n",
    "- Макароны\n",
    "- Фрукты\n",
    "- Продукция общепитов\n",
    "- Товары без категории\n",
    "\n",
    "Метрика: Recall"
   ]
  },
  {
   "cell_type": "markdown",
   "metadata": {
    "toc": true
   },
   "source": [
    "<h1>Содержание<span class=\"tocSkip\"></span></h1>\n",
    "<div class=\"toc\"><ul class=\"toc-item\"><li><span><a href=\"#Изучение-обучающих-данных-из-файла\" data-toc-modified-id=\"Изучение-обучающих-данных-из-файла-1\"><span class=\"toc-item-num\">1&nbsp;&nbsp;</span>Изучение обучающих данных из файла</a></span><ul class=\"toc-item\"><li><span><a href=\"#Очистка-текста\" data-toc-modified-id=\"Очистка-текста-1.1\"><span class=\"toc-item-num\">1.1&nbsp;&nbsp;</span>Очистка текста</a></span></li><li><span><a href=\"#Количество-символов-тексте\" data-toc-modified-id=\"Количество-символов-тексте-1.2\"><span class=\"toc-item-num\">1.2&nbsp;&nbsp;</span>Количество символов тексте</a></span></li></ul></li><li><span><a href=\"#Выделим-признаки\" data-toc-modified-id=\"Выделим-признаки-2\"><span class=\"toc-item-num\">2&nbsp;&nbsp;</span>Выделим признаки</a></span></li><li><span><a href=\"#Поиск-гиперпараметров\" data-toc-modified-id=\"Поиск-гиперпараметров-3\"><span class=\"toc-item-num\">3&nbsp;&nbsp;</span>Поиск гиперпараметров</a></span><ul class=\"toc-item\"><li><span><a href=\"#LinearSVC\" data-toc-modified-id=\"LinearSVC-3.1\"><span class=\"toc-item-num\">3.1&nbsp;&nbsp;</span>LinearSVC</a></span></li></ul></li><li><span><a href=\"#Изучение-тестовых-данных-из-файла\" data-toc-modified-id=\"Изучение-тестовых-данных-из-файла-4\"><span class=\"toc-item-num\">4&nbsp;&nbsp;</span>Изучение тестовых данных из файла</a></span><ul class=\"toc-item\"><li><span><a href=\"#Количество-символов-тексте\" data-toc-modified-id=\"Количество-символов-тексте-4.1\"><span class=\"toc-item-num\">4.1&nbsp;&nbsp;</span>Количество символов тексте</a></span></li><li><span><a href=\"#Предсказание-на-тесте\" data-toc-modified-id=\"Предсказание-на-тесте-4.2\"><span class=\"toc-item-num\">4.2&nbsp;&nbsp;</span>Предсказание на тесте</a></span><ul class=\"toc-item\"><li><span><a href=\"#запись-в-файл\" data-toc-modified-id=\"запись-в-файл-4.2.1\"><span class=\"toc-item-num\">4.2.1&nbsp;&nbsp;</span>запись в файл</a></span></li></ul></li></ul></li></ul></div>"
   ]
  },
  {
   "cell_type": "markdown",
   "metadata": {
    "id": "GywlangPRAEm"
   },
   "source": [
    "## Изучение обучающих данных из файла"
   ]
  },
  {
   "cell_type": "markdown",
   "metadata": {
    "id": "57eAOGIz_Zcs"
   },
   "source": [
    "Импортируем библиотеки:"
   ]
  },
  {
   "cell_type": "code",
   "execution_count": 1,
   "metadata": {
    "id": "iyJdVYzOncBd"
   },
   "outputs": [],
   "source": [
    "import matplotlib.pyplot as plt\n",
    "import numpy as np\n",
    "import pandas as pd\n",
    "import re\n",
    "import seaborn as sns\n",
    "import time\n",
    "import warnings\n",
    "\n",
    "from sklearn.feature_extraction.text import TfidfVectorizer\n",
    "from sklearn.svm import LinearSVC\n",
    "from sklearn.metrics import make_scorer\n",
    "from sklearn.metrics import recall_score\n",
    "from sklearn.model_selection import GridSearchCV\n",
    "from sklearn.pipeline import Pipeline"
   ]
  },
  {
   "cell_type": "code",
   "execution_count": 2,
   "metadata": {},
   "outputs": [],
   "source": [
    "warnings.filterwarnings('ignore')"
   ]
  },
  {
   "cell_type": "code",
   "execution_count": 3,
   "metadata": {},
   "outputs": [],
   "source": [
    "pd.options.display.max_colwidth = 1000\n",
    "pd.set_option('display.max_columns', 500)"
   ]
  },
  {
   "cell_type": "code",
   "execution_count": 4,
   "metadata": {
    "id": "4LBwgqxpn54b"
   },
   "outputs": [],
   "source": [
    "df_train = pd.read_csv('datasets/saratov_train_dataset.csv')"
   ]
  },
  {
   "cell_type": "code",
   "execution_count": 5,
   "metadata": {
    "colab": {
     "base_uri": "https://localhost:8080/",
     "height": 257
    },
    "id": "gvcl_K3FQ-os",
    "outputId": "05646ca9-7c12-4160-8e91-2f71c91aca54",
    "scrolled": true
   },
   "outputs": [
    {
     "data": {
      "text/html": [
       "<div>\n",
       "<style scoped>\n",
       "    .dataframe tbody tr th:only-of-type {\n",
       "        vertical-align: middle;\n",
       "    }\n",
       "\n",
       "    .dataframe tbody tr th {\n",
       "        vertical-align: top;\n",
       "    }\n",
       "\n",
       "    .dataframe thead th {\n",
       "        text-align: right;\n",
       "    }\n",
       "</style>\n",
       "<table border=\"1\" class=\"dataframe\">\n",
       "  <thead>\n",
       "    <tr style=\"text-align: right;\">\n",
       "      <th></th>\n",
       "      <th>id</th>\n",
       "      <th>name</th>\n",
       "      <th>groups</th>\n",
       "    </tr>\n",
       "  </thead>\n",
       "  <tbody>\n",
       "    <tr>\n",
       "      <th>0</th>\n",
       "      <td>1034</td>\n",
       "      <td>ШОК-ЦЕНА Пена д/душа/бритья КУППЕР 200 мл АКС</td>\n",
       "      <td>10</td>\n",
       "    </tr>\n",
       "    <tr>\n",
       "      <th>1</th>\n",
       "      <td>1035</td>\n",
       "      <td>Мин.вода Нагутская №26    0.5л</td>\n",
       "      <td>0</td>\n",
       "    </tr>\n",
       "    <tr>\n",
       "      <th>2</th>\n",
       "      <td>1036</td>\n",
       "      <td>Пельмени Домашние вес ПО Прямицино.</td>\n",
       "      <td>10</td>\n",
       "    </tr>\n",
       "  </tbody>\n",
       "</table>\n",
       "</div>"
      ],
      "text/plain": [
       "     id                                           name  groups\n",
       "0  1034  ШОК-ЦЕНА Пена д/душа/бритья КУППЕР 200 мл АКС      10\n",
       "1  1035                 Мин.вода Нагутская №26    0.5л       0\n",
       "2  1036            Пельмени Домашние вес ПО Прямицино.      10"
      ]
     },
     "execution_count": 5,
     "metadata": {},
     "output_type": "execute_result"
    }
   ],
   "source": [
    "df_train.head(3)"
   ]
  },
  {
   "cell_type": "markdown",
   "metadata": {},
   "source": [
    "- `id` - идентификатор товара\n",
    "- `name` - описание товара\n",
    "- `groups` - номер группы товара"
   ]
  },
  {
   "cell_type": "code",
   "execution_count": 6,
   "metadata": {
    "colab": {
     "base_uri": "https://localhost:8080/"
    },
    "id": "uAIT-vwLUI0z",
    "outputId": "d3947e48-5566-4904-d129-941b184a38b9",
    "scrolled": false
   },
   "outputs": [
    {
     "name": "stdout",
     "output_type": "stream",
     "text": [
      "<class 'pandas.core.frame.DataFrame'>\n",
      "RangeIndex: 658064 entries, 0 to 658063\n",
      "Data columns (total 3 columns):\n",
      " #   Column  Non-Null Count   Dtype \n",
      "---  ------  --------------   ----- \n",
      " 0   id      658064 non-null  int64 \n",
      " 1   name    658064 non-null  object\n",
      " 2   groups  658064 non-null  int64 \n",
      "dtypes: int64(2), object(1)\n",
      "memory usage: 15.1+ MB\n"
     ]
    }
   ],
   "source": [
    "df_train.info()"
   ]
  },
  {
   "cell_type": "markdown",
   "metadata": {},
   "source": [
    "### Очистка текста"
   ]
  },
  {
   "cell_type": "markdown",
   "metadata": {},
   "source": [
    "Оставим только слова, состоящие из 3 и более символов, и числа из 5 и более цифр c помощью функции `text_clean_func`"
   ]
  },
  {
   "cell_type": "code",
   "execution_count": 7,
   "metadata": {},
   "outputs": [],
   "source": [
    "def text_clean_func(text):\n",
    "    text = text.lower()\n",
    "    text = re.sub(r\"ё\", \"е\", text) # замена ё на е\n",
    "    text = re.sub('(\\d+(\\.\\d+)?)', r' \\1 ', text) #пробел между числом и цифрой\n",
    "    text = re.sub(r\"[^\\w\\d\\s]\", \" \", text)\n",
    "    text = re.sub(r\"' вес \", \" \", text)\n",
    "    shortword = re.compile(r'\\W*\\b[0-9]{1,4}\\b') # удалить числа короче 5 символов\n",
    "    text = shortword.sub(' ', text)\n",
    "    shortword = re.compile(r'\\W*\\b[а-яa-z]{1,2}\\b') #удалить слова, состоящие из 1-2 символов\n",
    "    text = shortword.sub(' ', text)\n",
    "    text = re.sub(\"\\s+\", \" \", text)\n",
    "    text = text.strip(' ')\n",
    "    return text"
   ]
  },
  {
   "cell_type": "code",
   "execution_count": 8,
   "metadata": {},
   "outputs": [
    {
     "name": "stdout",
     "output_type": "stream",
     "text": [
      "CPU times: user 9.74 s, sys: 33.1 ms, total: 9.77 s\n",
      "Wall time: 9.77 s\n"
     ]
    }
   ],
   "source": [
    "%%time\n",
    "df_train['name_clean'] = df_train['name'].apply(text_clean_func)"
   ]
  },
  {
   "cell_type": "code",
   "execution_count": 9,
   "metadata": {},
   "outputs": [
    {
     "data": {
      "text/html": [
       "<div>\n",
       "<style scoped>\n",
       "    .dataframe tbody tr th:only-of-type {\n",
       "        vertical-align: middle;\n",
       "    }\n",
       "\n",
       "    .dataframe tbody tr th {\n",
       "        vertical-align: top;\n",
       "    }\n",
       "\n",
       "    .dataframe thead th {\n",
       "        text-align: right;\n",
       "    }\n",
       "</style>\n",
       "<table border=\"1\" class=\"dataframe\">\n",
       "  <thead>\n",
       "    <tr style=\"text-align: right;\">\n",
       "      <th></th>\n",
       "      <th>id</th>\n",
       "      <th>name</th>\n",
       "      <th>groups</th>\n",
       "      <th>name_clean</th>\n",
       "    </tr>\n",
       "  </thead>\n",
       "  <tbody>\n",
       "    <tr>\n",
       "      <th>60453</th>\n",
       "      <td>61487</td>\n",
       "      <td>Напиток газированный 7-UP Лимон и лайм, 1,5 л</td>\n",
       "      <td>4</td>\n",
       "      <td>напиток газированный лимон лайм</td>\n",
       "    </tr>\n",
       "    <tr>\n",
       "      <th>173630</th>\n",
       "      <td>174664</td>\n",
       "      <td>Н-к 7-UP 0,33л ж/б</td>\n",
       "      <td>10</td>\n",
       "      <td></td>\n",
       "    </tr>\n",
       "    <tr>\n",
       "      <th>270746</th>\n",
       "      <td>271780</td>\n",
       "      <td>Напиток б/а сильногазированный ароматизированный 7-Up пэт 2,0л</td>\n",
       "      <td>4</td>\n",
       "      <td>напиток сильногазированный ароматизированный пэт</td>\n",
       "    </tr>\n",
       "    <tr>\n",
       "      <th>366687</th>\n",
       "      <td>367721</td>\n",
       "      <td>Напиток б/а 7-UP газ. 1л. пэт</td>\n",
       "      <td>4</td>\n",
       "      <td>напиток газ пэт</td>\n",
       "    </tr>\n",
       "    <tr>\n",
       "      <th>464877</th>\n",
       "      <td>465911</td>\n",
       "      <td>Напиток 7-UP Lemon Lemon б/алк</td>\n",
       "      <td>4</td>\n",
       "      <td>напиток lemon lemon алк</td>\n",
       "    </tr>\n",
       "    <tr>\n",
       "      <th>465055</th>\n",
       "      <td>466089</td>\n",
       "      <td>Напиток 7-UP  2 л</td>\n",
       "      <td>4</td>\n",
       "      <td>напиток</td>\n",
       "    </tr>\n",
       "  </tbody>\n",
       "</table>\n",
       "</div>"
      ],
      "text/plain": [
       "            id  \\\n",
       "60453    61487   \n",
       "173630  174664   \n",
       "270746  271780   \n",
       "366687  367721   \n",
       "464877  465911   \n",
       "465055  466089   \n",
       "\n",
       "                                                                  name  \\\n",
       "60453                    Напиток газированный 7-UP Лимон и лайм, 1,5 л   \n",
       "173630                                              Н-к 7-UP 0,33л ж/б   \n",
       "270746  Напиток б/а сильногазированный ароматизированный 7-Up пэт 2,0л   \n",
       "366687                                   Напиток б/а 7-UP газ. 1л. пэт   \n",
       "464877                                  Напиток 7-UP Lemon Lemon б/алк   \n",
       "465055                                               Напиток 7-UP  2 л   \n",
       "\n",
       "        groups                                        name_clean  \n",
       "60453        4                   напиток газированный лимон лайм  \n",
       "173630      10                                                    \n",
       "270746       4  напиток сильногазированный ароматизированный пэт  \n",
       "366687       4                                   напиток газ пэт  \n",
       "464877       4                           напиток lemon lemon алк  \n",
       "465055       4                                           напиток  "
      ]
     },
     "execution_count": 9,
     "metadata": {},
     "output_type": "execute_result"
    }
   ],
   "source": [
    "df_train[df_train['name'].str.lower().str.contains('7-up') == True]"
   ]
  },
  {
   "cell_type": "code",
   "execution_count": 10,
   "metadata": {
    "scrolled": false
   },
   "outputs": [
    {
     "data": {
      "text/html": [
       "<div>\n",
       "<style scoped>\n",
       "    .dataframe tbody tr th:only-of-type {\n",
       "        vertical-align: middle;\n",
       "    }\n",
       "\n",
       "    .dataframe tbody tr th {\n",
       "        vertical-align: top;\n",
       "    }\n",
       "\n",
       "    .dataframe thead th {\n",
       "        text-align: right;\n",
       "    }\n",
       "</style>\n",
       "<table border=\"1\" class=\"dataframe\">\n",
       "  <thead>\n",
       "    <tr style=\"text-align: right;\">\n",
       "      <th></th>\n",
       "      <th>id</th>\n",
       "      <th>name</th>\n",
       "      <th>groups</th>\n",
       "      <th>name_clean</th>\n",
       "    </tr>\n",
       "  </thead>\n",
       "  <tbody>\n",
       "    <tr>\n",
       "      <th>0</th>\n",
       "      <td>1034</td>\n",
       "      <td>ШОК-ЦЕНА Пена д/душа/бритья КУППЕР 200 мл АКС</td>\n",
       "      <td>10</td>\n",
       "      <td>шок цена пена душа бритья куппер акс</td>\n",
       "    </tr>\n",
       "    <tr>\n",
       "      <th>1</th>\n",
       "      <td>1035</td>\n",
       "      <td>Мин.вода Нагутская №26    0.5л</td>\n",
       "      <td>0</td>\n",
       "      <td>мин вода нагутская</td>\n",
       "    </tr>\n",
       "    <tr>\n",
       "      <th>2</th>\n",
       "      <td>1036</td>\n",
       "      <td>Пельмени Домашние вес ПО Прямицино.</td>\n",
       "      <td>10</td>\n",
       "      <td>пельмени домашние вес прямицино</td>\n",
       "    </tr>\n",
       "    <tr>\n",
       "      <th>3</th>\n",
       "      <td>1037</td>\n",
       "      <td>ПЕЧЕНЬЕ ОВСЯНО-ГРЕЧНЕВОЕ ЭКО БОТ 4600508719365</td>\n",
       "      <td>10</td>\n",
       "      <td>печенье овсяно гречневое эко бот 4600508719365</td>\n",
       "    </tr>\n",
       "    <tr>\n",
       "      <th>4</th>\n",
       "      <td>1038</td>\n",
       "      <td>Спред растительно-жировой Масляничка 62% 170г С ЗМЖ</td>\n",
       "      <td>10</td>\n",
       "      <td>спред растительно жировой масляничка змж</td>\n",
       "    </tr>\n",
       "    <tr>\n",
       "      <th>5</th>\n",
       "      <td>1039</td>\n",
       "      <td>4607040961429 ПЕЛЬМЕНИ ЗОЛОТО ДЭМК</td>\n",
       "      <td>10</td>\n",
       "      <td>4607040961429 пельмени золото дэмк</td>\n",
       "    </tr>\n",
       "    <tr>\n",
       "      <th>6</th>\n",
       "      <td>1040</td>\n",
       "      <td>2: 3347584 МДБ Колб.ДОКТОР.в/с б/о в/у50</td>\n",
       "      <td>10</td>\n",
       "      <td>3347584 мдб колб доктор</td>\n",
       "    </tr>\n",
       "    <tr>\n",
       "      <th>7</th>\n",
       "      <td>1041</td>\n",
       "      <td>Щипцы кухон. 23см пласт.+нерж. сталь ручка VETTA</td>\n",
       "      <td>10</td>\n",
       "      <td>щипцы кухон пласт нерж сталь ручка vetta</td>\n",
       "    </tr>\n",
       "    <tr>\n",
       "      <th>8</th>\n",
       "      <td>1042</td>\n",
       "      <td>ИГР.ВИНО ПРОСЕККО НАЦИОНАЛЬ'19 Б 8032770293018</td>\n",
       "      <td>10</td>\n",
       "      <td>игр вино просекко националь 8032770293018</td>\n",
       "    </tr>\n",
       "    <tr>\n",
       "      <th>9</th>\n",
       "      <td>1043</td>\n",
       "      <td>Лапша удон, Курица с овощами, Соус терияки</td>\n",
       "      <td>1</td>\n",
       "      <td>лапша удон курица овощами соус терияки</td>\n",
       "    </tr>\n",
       "    <tr>\n",
       "      <th>10</th>\n",
       "      <td>1044</td>\n",
       "      <td>Макароны МАКФА Витки 231 3А, в/с 400гр., Челябинск</td>\n",
       "      <td>1</td>\n",
       "      <td>макароны макфа витки челябинск</td>\n",
       "    </tr>\n",
       "    <tr>\n",
       "      <th>11</th>\n",
       "      <td>1045</td>\n",
       "      <td>ВЛАЖ.САЛФЕТКИ ДЕТСКИ</td>\n",
       "      <td>10</td>\n",
       "      <td>влаж салфетки детски</td>\n",
       "    </tr>\n",
       "    <tr>\n",
       "      <th>12</th>\n",
       "      <td>1046</td>\n",
       "      <td>Морковь Сибирская медуница  2гр/10</td>\n",
       "      <td>10</td>\n",
       "      <td>морковь сибирская медуница</td>\n",
       "    </tr>\n",
       "    <tr>\n",
       "      <th>13</th>\n",
       "      <td>1047</td>\n",
       "      <td>МОРОЖЕН ДВУХС СВИТ</td>\n",
       "      <td>10</td>\n",
       "      <td>морожен двухс свит</td>\n",
       "    </tr>\n",
       "    <tr>\n",
       "      <th>14</th>\n",
       "      <td>1048</td>\n",
       "      <td>роза в ассортименте срезанная</td>\n",
       "      <td>10</td>\n",
       "      <td>роза ассортименте срезанная</td>\n",
       "    </tr>\n",
       "    <tr>\n",
       "      <th>15</th>\n",
       "      <td>1049</td>\n",
       "      <td>СУШКИ МАЛЮТКА МИНИ С СОЛЬ  1.000 X    15.90</td>\n",
       "      <td>10</td>\n",
       "      <td>сушки малютка мини соль</td>\n",
       "    </tr>\n",
       "    <tr>\n",
       "      <th>16</th>\n",
       "      <td>1050</td>\n",
       "      <td>ТОФА 115069-7 Туфли женские 37</td>\n",
       "      <td>10</td>\n",
       "      <td>тофа 115069 туфли женские</td>\n",
       "    </tr>\n",
       "    <tr>\n",
       "      <th>17</th>\n",
       "      <td>1051</td>\n",
       "      <td>Пряники заварные \"Мятные\",шт</td>\n",
       "      <td>10</td>\n",
       "      <td>пряники заварные мятные</td>\n",
       "    </tr>\n",
       "    <tr>\n",
       "      <th>18</th>\n",
       "      <td>1052</td>\n",
       "      <td>Вода 0,5 литр (Святой источник)</td>\n",
       "      <td>0</td>\n",
       "      <td>вода литр святой источник</td>\n",
       "    </tr>\n",
       "    <tr>\n",
       "      <th>19</th>\n",
       "      <td>1053</td>\n",
       "      <td>Напиток Любимый 1,93л цитрусовый Микс т/п</td>\n",
       "      <td>4</td>\n",
       "      <td>напиток любимый цитрусовый микс</td>\n",
       "    </tr>\n",
       "  </tbody>\n",
       "</table>\n",
       "</div>"
      ],
      "text/plain": [
       "      id                                                 name  groups  \\\n",
       "0   1034        ШОК-ЦЕНА Пена д/душа/бритья КУППЕР 200 мл АКС      10   \n",
       "1   1035                       Мин.вода Нагутская №26    0.5л       0   \n",
       "2   1036                  Пельмени Домашние вес ПО Прямицино.      10   \n",
       "3   1037       ПЕЧЕНЬЕ ОВСЯНО-ГРЕЧНЕВОЕ ЭКО БОТ 4600508719365      10   \n",
       "4   1038  Спред растительно-жировой Масляничка 62% 170г С ЗМЖ      10   \n",
       "5   1039                   4607040961429 ПЕЛЬМЕНИ ЗОЛОТО ДЭМК      10   \n",
       "6   1040             2: 3347584 МДБ Колб.ДОКТОР.в/с б/о в/у50      10   \n",
       "7   1041     Щипцы кухон. 23см пласт.+нерж. сталь ручка VETTA      10   \n",
       "8   1042       ИГР.ВИНО ПРОСЕККО НАЦИОНАЛЬ'19 Б 8032770293018      10   \n",
       "9   1043          Лапша удон, Курица с овощами, Соус терияки        1   \n",
       "10  1044   Макароны МАКФА Витки 231 3А, в/с 400гр., Челябинск       1   \n",
       "11  1045                                 ВЛАЖ.САЛФЕТКИ ДЕТСКИ      10   \n",
       "12  1046                   Морковь Сибирская медуница  2гр/10      10   \n",
       "13  1047                                   МОРОЖЕН ДВУХС СВИТ      10   \n",
       "14  1048                        роза в ассортименте срезанная      10   \n",
       "15  1049          СУШКИ МАЛЮТКА МИНИ С СОЛЬ  1.000 X    15.90      10   \n",
       "16  1050     ТОФА 115069-7 Туфли женские 37                        10   \n",
       "17  1051                         Пряники заварные \"Мятные\",шт      10   \n",
       "18  1052                      Вода 0,5 литр (Святой источник)       0   \n",
       "19  1053            Напиток Любимый 1,93л цитрусовый Микс т/п       4   \n",
       "\n",
       "                                        name_clean  \n",
       "0             шок цена пена душа бритья куппер акс  \n",
       "1                               мин вода нагутская  \n",
       "2                  пельмени домашние вес прямицино  \n",
       "3   печенье овсяно гречневое эко бот 4600508719365  \n",
       "4         спред растительно жировой масляничка змж  \n",
       "5               4607040961429 пельмени золото дэмк  \n",
       "6                          3347584 мдб колб доктор  \n",
       "7         щипцы кухон пласт нерж сталь ручка vetta  \n",
       "8        игр вино просекко националь 8032770293018  \n",
       "9           лапша удон курица овощами соус терияки  \n",
       "10                  макароны макфа витки челябинск  \n",
       "11                            влаж салфетки детски  \n",
       "12                      морковь сибирская медуница  \n",
       "13                              морожен двухс свит  \n",
       "14                     роза ассортименте срезанная  \n",
       "15                         сушки малютка мини соль  \n",
       "16                       тофа 115069 туфли женские  \n",
       "17                         пряники заварные мятные  \n",
       "18                       вода литр святой источник  \n",
       "19                 напиток любимый цитрусовый микс  "
      ]
     },
     "execution_count": 10,
     "metadata": {},
     "output_type": "execute_result"
    }
   ],
   "source": [
    "df_train.head(20)"
   ]
  },
  {
   "cell_type": "markdown",
   "metadata": {},
   "source": [
    "### Количество символов тексте"
   ]
  },
  {
   "cell_type": "markdown",
   "metadata": {},
   "source": [
    "Добавим признак с количеством символов в тексте"
   ]
  },
  {
   "cell_type": "code",
   "execution_count": 11,
   "metadata": {},
   "outputs": [],
   "source": [
    "df_train['length'] = df_train['name_clean'].apply(len)"
   ]
  },
  {
   "cell_type": "code",
   "execution_count": 12,
   "metadata": {
    "scrolled": true
   },
   "outputs": [
    {
     "data": {
      "text/plain": [
       "count    658064.000000\n",
       "mean         29.486273\n",
       "std          13.274911\n",
       "min           0.000000\n",
       "25%          21.000000\n",
       "50%          28.000000\n",
       "75%          35.000000\n",
       "max         126.000000\n",
       "Name: length, dtype: float64"
      ]
     },
     "execution_count": 12,
     "metadata": {},
     "output_type": "execute_result"
    }
   ],
   "source": [
    "df_train['length'].describe()"
   ]
  },
  {
   "cell_type": "code",
   "execution_count": 13,
   "metadata": {},
   "outputs": [
    {
     "data": {
      "text/plain": [
       "71"
      ]
     },
     "execution_count": 13,
     "metadata": {},
     "output_type": "execute_result"
    }
   ],
   "source": [
    "len(df_train.query('length == 0'))"
   ]
  },
  {
   "cell_type": "code",
   "execution_count": 14,
   "metadata": {
    "scrolled": false
   },
   "outputs": [
    {
     "data": {
      "text/html": [
       "<div>\n",
       "<style scoped>\n",
       "    .dataframe tbody tr th:only-of-type {\n",
       "        vertical-align: middle;\n",
       "    }\n",
       "\n",
       "    .dataframe tbody tr th {\n",
       "        vertical-align: top;\n",
       "    }\n",
       "\n",
       "    .dataframe thead th {\n",
       "        text-align: right;\n",
       "    }\n",
       "</style>\n",
       "<table border=\"1\" class=\"dataframe\">\n",
       "  <thead>\n",
       "    <tr style=\"text-align: right;\">\n",
       "      <th></th>\n",
       "      <th>id</th>\n",
       "      <th>name</th>\n",
       "      <th>groups</th>\n",
       "      <th>name_clean</th>\n",
       "      <th>length</th>\n",
       "    </tr>\n",
       "  </thead>\n",
       "  <tbody>\n",
       "    <tr>\n",
       "      <th>320033</th>\n",
       "      <td>321067</td>\n",
       "      <td>27\"</td>\n",
       "      <td>10</td>\n",
       "      <td></td>\n",
       "      <td>0</td>\n",
       "    </tr>\n",
       "    <tr>\n",
       "      <th>66379</th>\n",
       "      <td>67413</td>\n",
       "      <td>й (ДС-217)\"</td>\n",
       "      <td>10</td>\n",
       "      <td></td>\n",
       "      <td>0</td>\n",
       "    </tr>\n",
       "    <tr>\n",
       "      <th>16222</th>\n",
       "      <td>17256</td>\n",
       "      <td>5 мл (375)\"</td>\n",
       "      <td>10</td>\n",
       "      <td></td>\n",
       "      <td>0</td>\n",
       "    </tr>\n",
       "    <tr>\n",
       "      <th>150982</th>\n",
       "      <td>152016</td>\n",
       "      <td>9561)\"</td>\n",
       "      <td>10</td>\n",
       "      <td></td>\n",
       "      <td>0</td>\n",
       "    </tr>\n",
       "    <tr>\n",
       "      <th>33750</th>\n",
       "      <td>34784</td>\n",
       "      <td>9\"</td>\n",
       "      <td>10</td>\n",
       "      <td></td>\n",
       "      <td>0</td>\n",
       "    </tr>\n",
       "    <tr>\n",
       "      <th>113587</th>\n",
       "      <td>114621</td>\n",
       "      <td>.\"</td>\n",
       "      <td>10</td>\n",
       "      <td></td>\n",
       "      <td>0</td>\n",
       "    </tr>\n",
       "    <tr>\n",
       "      <th>51903</th>\n",
       "      <td>52937</td>\n",
       "      <td>50 г\"</td>\n",
       "      <td>10</td>\n",
       "      <td></td>\n",
       "      <td>0</td>\n",
       "    </tr>\n",
       "    <tr>\n",
       "      <th>556980</th>\n",
       "      <td>558014</td>\n",
       "      <td>к 500 мл\"</td>\n",
       "      <td>10</td>\n",
       "      <td></td>\n",
       "      <td>0</td>\n",
       "    </tr>\n",
       "    <tr>\n",
       "      <th>195335</th>\n",
       "      <td>196369</td>\n",
       "      <td>601)\"</td>\n",
       "      <td>10</td>\n",
       "      <td></td>\n",
       "      <td>0</td>\n",
       "    </tr>\n",
       "    <tr>\n",
       "      <th>502424</th>\n",
       "      <td>503458</td>\n",
       "      <td>00 мл\"</td>\n",
       "      <td>10</td>\n",
       "      <td></td>\n",
       "      <td>0</td>\n",
       "    </tr>\n",
       "  </tbody>\n",
       "</table>\n",
       "</div>"
      ],
      "text/plain": [
       "            id         name  groups name_clean  length\n",
       "320033  321067          27\"      10                  0\n",
       "66379    67413  й (ДС-217)\"      10                  0\n",
       "16222    17256  5 мл (375)\"      10                  0\n",
       "150982  152016       9561)\"      10                  0\n",
       "33750    34784           9\"      10                  0\n",
       "113587  114621           .\"      10                  0\n",
       "51903    52937        50 г\"      10                  0\n",
       "556980  558014    к 500 мл\"      10                  0\n",
       "195335  196369        601)\"      10                  0\n",
       "502424  503458       00 мл\"      10                  0"
      ]
     },
     "execution_count": 14,
     "metadata": {},
     "output_type": "execute_result"
    }
   ],
   "source": [
    "df_train.query('length == 0').sample(10)"
   ]
  },
  {
   "cell_type": "code",
   "execution_count": 15,
   "metadata": {},
   "outputs": [
    {
     "data": {
      "text/html": [
       "<div>\n",
       "<style scoped>\n",
       "    .dataframe tbody tr th:only-of-type {\n",
       "        vertical-align: middle;\n",
       "    }\n",
       "\n",
       "    .dataframe tbody tr th {\n",
       "        vertical-align: top;\n",
       "    }\n",
       "\n",
       "    .dataframe thead th {\n",
       "        text-align: right;\n",
       "    }\n",
       "</style>\n",
       "<table border=\"1\" class=\"dataframe\">\n",
       "  <thead>\n",
       "    <tr style=\"text-align: right;\">\n",
       "      <th></th>\n",
       "      <th>id</th>\n",
       "      <th>name</th>\n",
       "      <th>groups</th>\n",
       "      <th>name_clean</th>\n",
       "      <th>length</th>\n",
       "    </tr>\n",
       "  </thead>\n",
       "  <tbody>\n",
       "    <tr>\n",
       "      <th>323597</th>\n",
       "      <td>324631</td>\n",
       "      <td>Напиток \"ПАУРЕН\" Тропический безалкогольный тонизирующий энергетический газированный пастеризованный без применения консервантов</td>\n",
       "      <td>4</td>\n",
       "      <td>напиток паурен тропический безалкогольный тонизирующий энергетический газированный пастеризованный без применения консервантов</td>\n",
       "      <td>126</td>\n",
       "    </tr>\n",
       "    <tr>\n",
       "      <th>199110</th>\n",
       "      <td>200144</td>\n",
       "      <td>Вино защищенного географического указания региона Центральная Долина Текена Каберне Совиньон / Tekena Cabernet Sauvignon красное</td>\n",
       "      <td>10</td>\n",
       "      <td>вино защищенного географического указания региона центральная долина текена каберне совиньон tekena cabernet sauvignon красное</td>\n",
       "      <td>126</td>\n",
       "    </tr>\n",
       "    <tr>\n",
       "      <th>238851</th>\n",
       "      <td>239885</td>\n",
       "      <td>БЭЛЛА НАЙТ Супертонкие женские гигиенические впитывающие прокладки для критических дней \"bella Perfecta ultra violet  deo fresh\"</td>\n",
       "      <td>10</td>\n",
       "      <td>бэлла найт супертонкие женские гигиенические впитывающие прокладки для критических дней bella perfecta ultra violet deo fresh</td>\n",
       "      <td>125</td>\n",
       "    </tr>\n",
       "    <tr>\n",
       "      <th>651620</th>\n",
       "      <td>652654</td>\n",
       "      <td>ягодный микс.Напиток безалкогольный тонизирующий(энергетический)газированный витаминизированный ароматизированный\"Флеш Ап Энерги</td>\n",
       "      <td>4</td>\n",
       "      <td>ягодный микс напиток безалкогольный тонизирующий энергетический газированный витаминизированный ароматизированный флеш энерги</td>\n",
       "      <td>125</td>\n",
       "    </tr>\n",
       "    <tr>\n",
       "      <th>7922</th>\n",
       "      <td>8956</td>\n",
       "      <td>Трусы впитывающие для взрослых для средней и тяжёлой степени недержания под товарным знаком seni, вариант исполнения: seni ACTIV</td>\n",
       "      <td>10</td>\n",
       "      <td>трусы впитывающие для взрослых для средней тяжелой степени недержания под товарным знаком seni вариант исполнения seni activ</td>\n",
       "      <td>124</td>\n",
       "    </tr>\n",
       "  </tbody>\n",
       "</table>\n",
       "</div>"
      ],
      "text/plain": [
       "            id  \\\n",
       "323597  324631   \n",
       "199110  200144   \n",
       "238851  239885   \n",
       "651620  652654   \n",
       "7922      8956   \n",
       "\n",
       "                                                                                                                                    name  \\\n",
       "323597  Напиток \"ПАУРЕН\" Тропический безалкогольный тонизирующий энергетический газированный пастеризованный без применения консервантов   \n",
       "199110  Вино защищенного географического указания региона Центральная Долина Текена Каберне Совиньон / Tekena Cabernet Sauvignon красное   \n",
       "238851  БЭЛЛА НАЙТ Супертонкие женские гигиенические впитывающие прокладки для критических дней \"bella Perfecta ultra violet  deo fresh\"   \n",
       "651620  ягодный микс.Напиток безалкогольный тонизирующий(энергетический)газированный витаминизированный ароматизированный\"Флеш Ап Энерги   \n",
       "7922    Трусы впитывающие для взрослых для средней и тяжёлой степени недержания под товарным знаком seni, вариант исполнения: seni ACTIV   \n",
       "\n",
       "        groups  \\\n",
       "323597       4   \n",
       "199110      10   \n",
       "238851      10   \n",
       "651620       4   \n",
       "7922        10   \n",
       "\n",
       "                                                                                                                            name_clean  \\\n",
       "323597  напиток паурен тропический безалкогольный тонизирующий энергетический газированный пастеризованный без применения консервантов   \n",
       "199110  вино защищенного географического указания региона центральная долина текена каберне совиньон tekena cabernet sauvignon красное   \n",
       "238851   бэлла найт супертонкие женские гигиенические впитывающие прокладки для критических дней bella perfecta ultra violet deo fresh   \n",
       "651620   ягодный микс напиток безалкогольный тонизирующий энергетический газированный витаминизированный ароматизированный флеш энерги   \n",
       "7922      трусы впитывающие для взрослых для средней тяжелой степени недержания под товарным знаком seni вариант исполнения seni activ   \n",
       "\n",
       "        length  \n",
       "323597     126  \n",
       "199110     126  \n",
       "238851     125  \n",
       "651620     125  \n",
       "7922       124  "
      ]
     },
     "execution_count": 15,
     "metadata": {},
     "output_type": "execute_result"
    }
   ],
   "source": [
    "df_train.sort_values(by='length', ascending=False).head()"
   ]
  },
  {
   "cell_type": "code",
   "execution_count": 16,
   "metadata": {},
   "outputs": [
    {
     "data": {
      "text/html": [
       "<div>\n",
       "<style scoped>\n",
       "    .dataframe tbody tr th:only-of-type {\n",
       "        vertical-align: middle;\n",
       "    }\n",
       "\n",
       "    .dataframe tbody tr th {\n",
       "        vertical-align: top;\n",
       "    }\n",
       "\n",
       "    .dataframe thead th {\n",
       "        text-align: right;\n",
       "    }\n",
       "</style>\n",
       "<table border=\"1\" class=\"dataframe\">\n",
       "  <thead>\n",
       "    <tr style=\"text-align: right;\">\n",
       "      <th></th>\n",
       "      <th>id</th>\n",
       "      <th>name</th>\n",
       "      <th>groups</th>\n",
       "      <th>name_clean</th>\n",
       "      <th>length</th>\n",
       "    </tr>\n",
       "  </thead>\n",
       "  <tbody>\n",
       "    <tr>\n",
       "      <th>340456</th>\n",
       "      <td>341490</td>\n",
       "      <td>Сок, шт.</td>\n",
       "      <td>10</td>\n",
       "      <td>сок</td>\n",
       "      <td>3</td>\n",
       "    </tr>\n",
       "    <tr>\n",
       "      <th>355443</th>\n",
       "      <td>356477</td>\n",
       "      <td>БАД ж/б 0,45л 5%</td>\n",
       "      <td>10</td>\n",
       "      <td>бад</td>\n",
       "      <td>3</td>\n",
       "    </tr>\n",
       "    <tr>\n",
       "      <th>176167</th>\n",
       "      <td>177201</td>\n",
       "      <td>ЙОД 5% 25МЛ</td>\n",
       "      <td>10</td>\n",
       "      <td>йод</td>\n",
       "      <td>3</td>\n",
       "    </tr>\n",
       "    <tr>\n",
       "      <th>215610</th>\n",
       "      <td>216644</td>\n",
       "      <td>Сок 0,200 л.</td>\n",
       "      <td>10</td>\n",
       "      <td>сок</td>\n",
       "      <td>3</td>\n",
       "    </tr>\n",
       "    <tr>\n",
       "      <th>244039</th>\n",
       "      <td>245073</td>\n",
       "      <td>LED 16-125W Е27 ГР</td>\n",
       "      <td>10</td>\n",
       "      <td>led</td>\n",
       "      <td>3</td>\n",
       "    </tr>\n",
       "    <tr>\n",
       "      <th>427946</th>\n",
       "      <td>428980</td>\n",
       "      <td>Т: Но-Шпа (0.5 мл) (1 x 50)</td>\n",
       "      <td>10</td>\n",
       "      <td>шпа</td>\n",
       "      <td>3</td>\n",
       "    </tr>\n",
       "    <tr>\n",
       "      <th>591815</th>\n",
       "      <td>592849</td>\n",
       "      <td>КР Д/Л ЧЛ МОР ОТ 55Л</td>\n",
       "      <td>10</td>\n",
       "      <td>мор</td>\n",
       "      <td>3</td>\n",
       "    </tr>\n",
       "    <tr>\n",
       "      <th>436815</th>\n",
       "      <td>437849</td>\n",
       "      <td>СОК 200 гр. в ас-те</td>\n",
       "      <td>10</td>\n",
       "      <td>сок</td>\n",
       "      <td>3</td>\n",
       "    </tr>\n",
       "    <tr>\n",
       "      <th>494126</th>\n",
       "      <td>495160</td>\n",
       "      <td>Йод,сп.р-р,5%,10мл                      =Ц.35р.</td>\n",
       "      <td>10</td>\n",
       "      <td>йод</td>\n",
       "      <td>3</td>\n",
       "    </tr>\n",
       "    <tr>\n",
       "      <th>657963</th>\n",
       "      <td>658997</td>\n",
       "      <td>ХЛ. В/С БОЛ</td>\n",
       "      <td>1</td>\n",
       "      <td>бол</td>\n",
       "      <td>3</td>\n",
       "    </tr>\n",
       "  </tbody>\n",
       "</table>\n",
       "</div>"
      ],
      "text/plain": [
       "            id                                             name  groups  \\\n",
       "340456  341490                                         Сок, шт.      10   \n",
       "355443  356477                                 БАД ж/б 0,45л 5%      10   \n",
       "176167  177201                                     ЙОД 5% 25МЛ       10   \n",
       "215610  216644                                     Сок 0,200 л.      10   \n",
       "244039  245073                               LED 16-125W Е27 ГР      10   \n",
       "427946  428980                      Т: Но-Шпа (0.5 мл) (1 x 50)      10   \n",
       "591815  592849                             КР Д/Л ЧЛ МОР ОТ 55Л      10   \n",
       "436815  437849                              СОК 200 гр. в ас-те      10   \n",
       "494126  495160  Йод,сп.р-р,5%,10мл                      =Ц.35р.      10   \n",
       "657963  658997                                      ХЛ. В/С БОЛ       1   \n",
       "\n",
       "       name_clean  length  \n",
       "340456        сок       3  \n",
       "355443        бад       3  \n",
       "176167        йод       3  \n",
       "215610        сок       3  \n",
       "244039        led       3  \n",
       "427946        шпа       3  \n",
       "591815        мор       3  \n",
       "436815        сок       3  \n",
       "494126        йод       3  \n",
       "657963        бол       3  "
      ]
     },
     "execution_count": 16,
     "metadata": {},
     "output_type": "execute_result"
    }
   ],
   "source": [
    "df_train.query('length != 0').sort_values(by='length', ascending=True).head(10)"
   ]
  },
  {
   "cell_type": "markdown",
   "metadata": {},
   "source": [
    "Посмотрим на группы товаров с 0 длинной описания"
   ]
  },
  {
   "cell_type": "code",
   "execution_count": 17,
   "metadata": {},
   "outputs": [
    {
     "data": {
      "text/plain": [
       "10    70\n",
       "3      1\n",
       "Name: groups, dtype: int64"
      ]
     },
     "execution_count": 17,
     "metadata": {},
     "output_type": "execute_result"
    }
   ],
   "source": [
    "df_train.query('length == 0')['groups'].value_counts()"
   ]
  },
  {
   "cell_type": "markdown",
   "metadata": {},
   "source": [
    "Посмотрим на распределение длинны текста в наших данных"
   ]
  },
  {
   "cell_type": "code",
   "execution_count": 18,
   "metadata": {},
   "outputs": [],
   "source": [
    "def histplot_boxplot(df, column, bins=127):\n",
    "    \"\"\"\n",
    "    df - датафрейм\n",
    "    column - название признака для построения графиков\n",
    "    bins - количество корзин (50 по умолчанию)\n",
    "    \n",
    "    \"\"\"\n",
    "    f, (ax_box, ax_hist) = plt.subplots(2, sharex=True, gridspec_kw={'height_ratios': (.13, .87)},\n",
    "                                        figsize=(10, 5))\n",
    "    sns.boxplot(data=df, \n",
    "                x=column,  \n",
    "                orient='h',\n",
    "                order=[1,0],\n",
    "                palette='pastel',\n",
    "                ax=ax_box)\n",
    "    sns.histplot(data=df, \n",
    "                 x=column, \n",
    "                 bins=bins, \n",
    "                 kde=True, \n",
    "                 palette='pastel', \n",
    "                 hue_order=[1,0],\n",
    "                 ax=ax_hist)\n",
    " \n",
    "    ax_box.set(xlabel='')\n",
    "    ax_box.set(title='Ящик с усами для \"{}\"'.format(column))\n",
    "    ax_hist.set(title='Распределение признака \"{}\"'.format(column))\n",
    "    plt.show()"
   ]
  },
  {
   "cell_type": "code",
   "execution_count": 19,
   "metadata": {
    "scrolled": false
   },
   "outputs": [
    {
     "data": {
      "image/png": "[encoded data removed]",
      "text/plain": [
       "<Figure size 1000x500 with 2 Axes>"
      ]
     },
     "metadata": {},
     "output_type": "display_data"
    }
   ],
   "source": [
    "histplot_boxplot(df_train, 'length')"
   ]
  },
  {
   "cell_type": "markdown",
   "metadata": {},
   "source": [
    "Заполним строки с 0 длинной заглушкой `пусто`"
   ]
  },
  {
   "cell_type": "code",
   "execution_count": 20,
   "metadata": {},
   "outputs": [],
   "source": [
    "df_train.loc[df_train['length'] == 0, 'name_clean'] = 'пусто'"
   ]
  },
  {
   "cell_type": "markdown",
   "metadata": {
    "id": "870l_9AGdTvF"
   },
   "source": [
    "## Выделим признаки"
   ]
  },
  {
   "cell_type": "code",
   "execution_count": 21,
   "metadata": {
    "id": "R4fN_sD-dGSG"
   },
   "outputs": [],
   "source": [
    "X_train = df_train['name_clean']"
   ]
  },
  {
   "cell_type": "code",
   "execution_count": 22,
   "metadata": {},
   "outputs": [],
   "source": [
    "y_train = df_train['groups'].replace({6:5, 7:6, 9:7, 10:8}).values"
   ]
  },
  {
   "cell_type": "code",
   "execution_count": 23,
   "metadata": {},
   "outputs": [],
   "source": [
    "y_train = y_train.ravel()"
   ]
  },
  {
   "cell_type": "code",
   "execution_count": 24,
   "metadata": {},
   "outputs": [
    {
     "data": {
      "image/png": "[encoded data removed]",
      "text/plain": [
       "<Figure size 500x500 with 1 Axes>"
      ]
     },
     "metadata": {},
     "output_type": "display_data"
    }
   ],
   "source": [
    "plt.figure(figsize=(5,5))\n",
    "sns.countplot(x=y_train).set_title('Распределение целевого признака')\n",
    "plt.show()"
   ]
  },
  {
   "cell_type": "markdown",
   "metadata": {
    "id": "wWOMlu5megED"
   },
   "source": [
    "## Поиск гиперпараметров"
   ]
  },
  {
   "cell_type": "markdown",
   "metadata": {},
   "source": [
    "Зафиксируем параметр псевдослучайности для наших моделей и выборок:"
   ]
  },
  {
   "cell_type": "code",
   "execution_count": 25,
   "metadata": {},
   "outputs": [],
   "source": [
    "rnd_st = 12345"
   ]
  },
  {
   "cell_type": "markdown",
   "metadata": {},
   "source": [
    "Напишем функцию `grid_search_func` для проведения поиска по решетке, вывода лучших гиперпараметров модели и метрики. Функция будет возвращать лучший оценщик"
   ]
  },
  {
   "cell_type": "code",
   "execution_count": 26,
   "metadata": {},
   "outputs": [],
   "source": [
    "recall = make_scorer(recall_score , average='macro')"
   ]
  },
  {
   "cell_type": "code",
   "execution_count": 27,
   "metadata": {},
   "outputs": [],
   "source": [
    "def grid_search_func(model, parameters, features_train, target_train):\n",
    "    \"\"\"\n",
    "    model - модель\n",
    "    param_grid - параметры для поиска по решетке\n",
    "    features_train - входные признаки обучающая выборка\n",
    "    target_train - входные признаки тестовая выборка\n",
    "    \n",
    "    \"\"\"\n",
    "    gs = GridSearchCV(estimator=model, param_grid=parameters, \n",
    "                      scoring=recall, cv=2, verbose=0)\n",
    "    gs.fit(features_train, target_train)\n",
    "    gs_best_estimator = gs.best_estimator_\n",
    "    print('Best parameters:', gs.best_params_)\n",
    "    print('Best recall = %.4f' % abs(gs.best_score_))\n",
    "    return gs_best_estimator"
   ]
  },
  {
   "cell_type": "markdown",
   "metadata": {},
   "source": [
    "### LinearSVC"
   ]
  },
  {
   "cell_type": "code",
   "execution_count": 28,
   "metadata": {},
   "outputs": [],
   "source": [
    "svc_pipe = Pipeline([\n",
    "    ('tfidf', TfidfVectorizer(min_df=2,\n",
    "                              sublinear_tf=True,\n",
    "                              use_idf=False,\n",
    "                              ngram_range=(1,2))),\n",
    "    ('logreg', LinearSVC(random_state=rnd_st,\n",
    "                         tol=0.001,\n",
    "                         class_weight='balanced',\n",
    "                         max_iter=1_000_000,\n",
    "                         multi_class='crammer_singer'))\n",
    "])\n",
    "param_grid = {\n",
    "    'logreg__C': [0.27],\n",
    "#     'logreg__C': [0.24,0.27,0.30],\n",
    "}"
   ]
  },
  {
   "cell_type": "code",
   "execution_count": 29,
   "metadata": {
    "scrolled": true
   },
   "outputs": [
    {
     "name": "stdout",
     "output_type": "stream",
     "text": [
      "Best parameters: {'logreg__C': 0.27}\n",
      "Best recall = 0.9700\n",
      "CPU times: user 1min 31s, sys: 539 ms, total: 1min 31s\n",
      "Wall time: 1min 31s\n"
     ]
    }
   ],
   "source": [
    "%%time\n",
    "svc_pipe_best_estimator = grid_search_func(svc_pipe, param_grid, X_train, y_train)"
   ]
  },
  {
   "cell_type": "markdown",
   "metadata": {
    "id": "yjJp2a4dFmNJ"
   },
   "source": [
    "## Изучение тестовых данных из файла"
   ]
  },
  {
   "cell_type": "markdown",
   "metadata": {},
   "source": [
    "Загрузим тестовые данные в `df_test`, а данные для отправки в `df_sample_solution`"
   ]
  },
  {
   "cell_type": "code",
   "execution_count": 30,
   "metadata": {
    "id": "-1HabuSpBbYS"
   },
   "outputs": [],
   "source": [
    "df_test = pd.read_csv('datasets/saratov_test_dataset.csv')\n",
    "df_sample_solution = pd.read_csv('datasets/sample_solution.csv')"
   ]
  },
  {
   "cell_type": "code",
   "execution_count": 31,
   "metadata": {},
   "outputs": [
    {
     "name": "stdout",
     "output_type": "stream",
     "text": [
      "(282227, 2) (282227, 2)\n"
     ]
    }
   ],
   "source": [
    "print(df_test.shape, df_sample_solution.shape)"
   ]
  },
  {
   "cell_type": "code",
   "execution_count": 32,
   "metadata": {},
   "outputs": [
    {
     "name": "stdout",
     "output_type": "stream",
     "text": [
      "<class 'pandas.core.frame.DataFrame'>\n",
      "RangeIndex: 282227 entries, 0 to 282226\n",
      "Data columns (total 2 columns):\n",
      " #   Column  Non-Null Count   Dtype \n",
      "---  ------  --------------   ----- \n",
      " 0   id      282227 non-null  int64 \n",
      " 1   name    282227 non-null  object\n",
      "dtypes: int64(1), object(1)\n",
      "memory usage: 4.3+ MB\n"
     ]
    }
   ],
   "source": [
    "df_test.info()"
   ]
  },
  {
   "cell_type": "code",
   "execution_count": 33,
   "metadata": {},
   "outputs": [
    {
     "data": {
      "text/html": [
       "<div>\n",
       "<style scoped>\n",
       "    .dataframe tbody tr th:only-of-type {\n",
       "        vertical-align: middle;\n",
       "    }\n",
       "\n",
       "    .dataframe tbody tr th {\n",
       "        vertical-align: top;\n",
       "    }\n",
       "\n",
       "    .dataframe thead th {\n",
       "        text-align: right;\n",
       "    }\n",
       "</style>\n",
       "<table border=\"1\" class=\"dataframe\">\n",
       "  <thead>\n",
       "    <tr style=\"text-align: right;\">\n",
       "      <th></th>\n",
       "      <th>id</th>\n",
       "      <th>name</th>\n",
       "    </tr>\n",
       "  </thead>\n",
       "  <tbody>\n",
       "    <tr>\n",
       "      <th>0</th>\n",
       "      <td>10529</td>\n",
       "      <td>КАРАМЕЛЬ \"ЛАКОМКА-СУПЕРМОЛОЧНАЯ\" ВЕС (РОТ ФРОНТ)</td>\n",
       "    </tr>\n",
       "    <tr>\n",
       "      <th>1</th>\n",
       "      <td>10530</td>\n",
       "      <td>2: 3637233 РАЭ Масло ТРАДИЦ.слив.82,5% 1</td>\n",
       "    </tr>\n",
       "    <tr>\n",
       "      <th>2</th>\n",
       "      <td>10531</td>\n",
       "      <td>960012-LG NS  Бинт эластичный Classic лаймовый р. NS</td>\n",
       "    </tr>\n",
       "    <tr>\n",
       "      <th>3</th>\n",
       "      <td>10532</td>\n",
       "      <td>Вода мин. 1.5л пл/у (Сахалинская)</td>\n",
       "    </tr>\n",
       "    <tr>\n",
       "      <th>4</th>\n",
       "      <td>10533</td>\n",
       "      <td>Ролики натяжителя ремня AMD.GTA0740 AMD</td>\n",
       "    </tr>\n",
       "  </tbody>\n",
       "</table>\n",
       "</div>"
      ],
      "text/plain": [
       "      id                                                  name\n",
       "0  10529      КАРАМЕЛЬ \"ЛАКОМКА-СУПЕРМОЛОЧНАЯ\" ВЕС (РОТ ФРОНТ)\n",
       "1  10530              2: 3637233 РАЭ Масло ТРАДИЦ.слив.82,5% 1\n",
       "2  10531  960012-LG NS  Бинт эластичный Classic лаймовый р. NS\n",
       "3  10532                     Вода мин. 1.5л пл/у (Сахалинская)\n",
       "4  10533               Ролики натяжителя ремня AMD.GTA0740 AMD"
      ]
     },
     "execution_count": 33,
     "metadata": {},
     "output_type": "execute_result"
    }
   ],
   "source": [
    "df_test.head()"
   ]
  },
  {
   "cell_type": "code",
   "execution_count": 34,
   "metadata": {},
   "outputs": [
    {
     "data": {
      "image/png": "[encoded data removed]",
      "text/plain": [
       "<Figure size 800x200 with 1 Axes>"
      ]
     },
     "metadata": {},
     "output_type": "display_data"
    }
   ],
   "source": [
    "plt.figure(figsize=(8, 2))\n",
    "plt.plot(df_train['id'], np.ones(df_train.shape[0]), 'o', c='green', label='train id')\n",
    "plt.plot(df_test['id'], np.zeros(df_test.shape[0]), 'o', c='blue', label='test id')\n",
    "plt.title('Train and Test id')\n",
    "plt.yticks([])\n",
    "plt.xticks(rotation=90)\n",
    "plt.legend( loc='center right')\n",
    "plt.show()"
   ]
  },
  {
   "cell_type": "markdown",
   "metadata": {
    "id": "XIfjIJ7cF_gS"
   },
   "source": [
    "Провем те же манипуляции с тестовыми данными, что и на обучающей выборке с помощью функции `text_clean_func`"
   ]
  },
  {
   "cell_type": "code",
   "execution_count": 35,
   "metadata": {},
   "outputs": [
    {
     "name": "stdout",
     "output_type": "stream",
     "text": [
      "CPU times: user 4.31 s, sys: 15 ms, total: 4.33 s\n",
      "Wall time: 4.33 s\n"
     ]
    }
   ],
   "source": [
    "%%time\n",
    "df_test['name_clean'] = df_test['name'].apply(text_clean_func)"
   ]
  },
  {
   "cell_type": "code",
   "execution_count": 36,
   "metadata": {
    "scrolled": false
   },
   "outputs": [
    {
     "data": {
      "text/html": [
       "<div>\n",
       "<style scoped>\n",
       "    .dataframe tbody tr th:only-of-type {\n",
       "        vertical-align: middle;\n",
       "    }\n",
       "\n",
       "    .dataframe tbody tr th {\n",
       "        vertical-align: top;\n",
       "    }\n",
       "\n",
       "    .dataframe thead th {\n",
       "        text-align: right;\n",
       "    }\n",
       "</style>\n",
       "<table border=\"1\" class=\"dataframe\">\n",
       "  <thead>\n",
       "    <tr style=\"text-align: right;\">\n",
       "      <th></th>\n",
       "      <th>id</th>\n",
       "      <th>name</th>\n",
       "      <th>name_clean</th>\n",
       "    </tr>\n",
       "  </thead>\n",
       "  <tbody>\n",
       "    <tr>\n",
       "      <th>0</th>\n",
       "      <td>10529</td>\n",
       "      <td>КАРАМЕЛЬ \"ЛАКОМКА-СУПЕРМОЛОЧНАЯ\" ВЕС (РОТ ФРОНТ)</td>\n",
       "      <td>карамель лакомка супермолочная вес рот фронт</td>\n",
       "    </tr>\n",
       "    <tr>\n",
       "      <th>1</th>\n",
       "      <td>10530</td>\n",
       "      <td>2: 3637233 РАЭ Масло ТРАДИЦ.слив.82,5% 1</td>\n",
       "      <td>3637233 раэ масло традиц слив</td>\n",
       "    </tr>\n",
       "    <tr>\n",
       "      <th>2</th>\n",
       "      <td>10531</td>\n",
       "      <td>960012-LG NS  Бинт эластичный Classic лаймовый р. NS</td>\n",
       "      <td>960012 бинт эластичный classic лаймовый</td>\n",
       "    </tr>\n",
       "    <tr>\n",
       "      <th>3</th>\n",
       "      <td>10532</td>\n",
       "      <td>Вода мин. 1.5л пл/у (Сахалинская)</td>\n",
       "      <td>вода мин сахалинская</td>\n",
       "    </tr>\n",
       "    <tr>\n",
       "      <th>4</th>\n",
       "      <td>10533</td>\n",
       "      <td>Ролики натяжителя ремня AMD.GTA0740 AMD</td>\n",
       "      <td>ролики натяжителя ремня amd gta amd</td>\n",
       "    </tr>\n",
       "  </tbody>\n",
       "</table>\n",
       "</div>"
      ],
      "text/plain": [
       "      id                                                  name  \\\n",
       "0  10529      КАРАМЕЛЬ \"ЛАКОМКА-СУПЕРМОЛОЧНАЯ\" ВЕС (РОТ ФРОНТ)   \n",
       "1  10530              2: 3637233 РАЭ Масло ТРАДИЦ.слив.82,5% 1   \n",
       "2  10531  960012-LG NS  Бинт эластичный Classic лаймовый р. NS   \n",
       "3  10532                     Вода мин. 1.5л пл/у (Сахалинская)   \n",
       "4  10533               Ролики натяжителя ремня AMD.GTA0740 AMD   \n",
       "\n",
       "                                     name_clean  \n",
       "0  карамель лакомка супермолочная вес рот фронт  \n",
       "1                 3637233 раэ масло традиц слив  \n",
       "2       960012 бинт эластичный classic лаймовый  \n",
       "3                          вода мин сахалинская  \n",
       "4           ролики натяжителя ремня amd gta amd  "
      ]
     },
     "execution_count": 36,
     "metadata": {},
     "output_type": "execute_result"
    }
   ],
   "source": [
    "df_test.head()"
   ]
  },
  {
   "cell_type": "markdown",
   "metadata": {},
   "source": [
    "### Количество символов тексте"
   ]
  },
  {
   "cell_type": "markdown",
   "metadata": {},
   "source": [
    "Добавим признак с количеством символов в тексте"
   ]
  },
  {
   "cell_type": "code",
   "execution_count": 37,
   "metadata": {},
   "outputs": [],
   "source": [
    "df_test['length'] = df_test['name_clean'].apply(len)"
   ]
  },
  {
   "cell_type": "markdown",
   "metadata": {},
   "source": [
    "Посмотрим на группы товаров с 0 длинной описания"
   ]
  },
  {
   "cell_type": "code",
   "execution_count": 38,
   "metadata": {},
   "outputs": [
    {
     "data": {
      "text/plain": [
       "32"
      ]
     },
     "execution_count": 38,
     "metadata": {},
     "output_type": "execute_result"
    }
   ],
   "source": [
    "len(df_test.query('length == 0'))"
   ]
  },
  {
   "cell_type": "code",
   "execution_count": 39,
   "metadata": {
    "scrolled": false
   },
   "outputs": [
    {
     "data": {
      "text/html": [
       "<div>\n",
       "<style scoped>\n",
       "    .dataframe tbody tr th:only-of-type {\n",
       "        vertical-align: middle;\n",
       "    }\n",
       "\n",
       "    .dataframe tbody tr th {\n",
       "        vertical-align: top;\n",
       "    }\n",
       "\n",
       "    .dataframe thead th {\n",
       "        text-align: right;\n",
       "    }\n",
       "</style>\n",
       "<table border=\"1\" class=\"dataframe\">\n",
       "  <thead>\n",
       "    <tr style=\"text-align: right;\">\n",
       "      <th></th>\n",
       "      <th>id</th>\n",
       "      <th>name</th>\n",
       "      <th>name_clean</th>\n",
       "      <th>length</th>\n",
       "    </tr>\n",
       "  </thead>\n",
       "  <tbody>\n",
       "    <tr>\n",
       "      <th>13481</th>\n",
       "      <td>24010</td>\n",
       "      <td>85 г\"</td>\n",
       "      <td></td>\n",
       "      <td>0</td>\n",
       "    </tr>\n",
       "    <tr>\n",
       "      <th>16086</th>\n",
       "      <td>26615</td>\n",
       "      <td>5)\"</td>\n",
       "      <td></td>\n",
       "      <td>0</td>\n",
       "    </tr>\n",
       "    <tr>\n",
       "      <th>16254</th>\n",
       "      <td>26783</td>\n",
       "      <td>1</td>\n",
       "      <td></td>\n",
       "      <td>0</td>\n",
       "    </tr>\n",
       "    <tr>\n",
       "      <th>30183</th>\n",
       "      <td>40712</td>\n",
       "      <td>ИЯ/уп.\"</td>\n",
       "      <td></td>\n",
       "      <td>0</td>\n",
       "    </tr>\n",
       "    <tr>\n",
       "      <th>50145</th>\n",
       "      <td>60674</td>\n",
       "      <td>90х60 N30/шт\"</td>\n",
       "      <td></td>\n",
       "      <td>0</td>\n",
       "    </tr>\n",
       "  </tbody>\n",
       "</table>\n",
       "</div>"
      ],
      "text/plain": [
       "          id           name name_clean  length\n",
       "13481  24010          85 г\"                  0\n",
       "16086  26615            5)\"                  0\n",
       "16254  26783              1                  0\n",
       "30183  40712        ИЯ/уп.\"                  0\n",
       "50145  60674  90х60 N30/шт\"                  0"
      ]
     },
     "execution_count": 39,
     "metadata": {},
     "output_type": "execute_result"
    }
   ],
   "source": [
    "df_test.query('length == 0').head()"
   ]
  },
  {
   "cell_type": "markdown",
   "metadata": {},
   "source": [
    "Посмотрим на распределение длинны текста в наших данных"
   ]
  },
  {
   "cell_type": "code",
   "execution_count": 40,
   "metadata": {
    "scrolled": false
   },
   "outputs": [
    {
     "data": {
      "image/png": "[encoded data removed]",
      "text/plain": [
       "<Figure size 1000x500 with 2 Axes>"
      ]
     },
     "metadata": {},
     "output_type": "display_data"
    }
   ],
   "source": [
    "histplot_boxplot(df_test, 'length')"
   ]
  },
  {
   "cell_type": "markdown",
   "metadata": {},
   "source": [
    "Заполним строки с 0 длинной заглушкой `пусто`"
   ]
  },
  {
   "cell_type": "code",
   "execution_count": 41,
   "metadata": {},
   "outputs": [],
   "source": [
    "df_test.loc[df_test['length'] == 0, 'name_clean'] = 'пусто'"
   ]
  },
  {
   "cell_type": "markdown",
   "metadata": {},
   "source": [
    "Выделим тестовую выборку"
   ]
  },
  {
   "cell_type": "code",
   "execution_count": 42,
   "metadata": {},
   "outputs": [],
   "source": [
    "X_test = df_test['name_clean']"
   ]
  },
  {
   "cell_type": "markdown",
   "metadata": {},
   "source": [
    "### Предсказание на тесте"
   ]
  },
  {
   "cell_type": "code",
   "execution_count": 43,
   "metadata": {},
   "outputs": [
    {
     "data": {
      "text/plain": [
       "10    206590\n",
       "9      18284\n",
       "4      12153\n",
       "1      10293\n",
       "0       9423\n",
       "3       9139\n",
       "6       7874\n",
       "7       6665\n",
       "2       1806\n",
       "dtype: int64"
      ]
     },
     "execution_count": 43,
     "metadata": {},
     "output_type": "execute_result"
    }
   ],
   "source": [
    "y_pred = pd.Series(svc_pipe_best_estimator.predict(X_test)).replace({8:10, 7:9, 6:7, 5:6})\n",
    "y_pred.value_counts()"
   ]
  },
  {
   "cell_type": "markdown",
   "metadata": {},
   "source": [
    "#### запись в файл"
   ]
  },
  {
   "cell_type": "code",
   "execution_count": 44,
   "metadata": {},
   "outputs": [],
   "source": [
    "df_sample_solution['groups'] = y_pred\n",
    "df_sample_solution['id'] = df_test['id']\n",
    "df_sample_solution.to_csv(\"datasets/sample_solution.csv\", index=False)"
   ]
  }
 ],
 "metadata": {
  "colab": {
   "name": "rosstat_baseline.ipynb",
   "provenance": []
  },
  "kernelspec": {
   "display_name": "Python 3 (ipykernel)",
   "language": "python",
   "name": "python3"
  },
  "language_info": {
   "codemirror_mode": {
    "name": "ipython",
    "version": 3
   },
   "file_extension": ".py",
   "mimetype": "text/x-python",
   "name": "python",
   "nbconvert_exporter": "python",
   "pygments_lexer": "ipython3",
   "version": "3.9.13"
  },
  "toc": {
   "base_numbering": 1,
   "nav_menu": {},
   "number_sections": true,
   "sideBar": true,
   "skip_h1_title": true,
   "title_cell": "Содержание",
   "title_sidebar": "Содержание",
   "toc_cell": true,
   "toc_position": {
    "height": "calc(100% - 180px)",
    "left": "10px",
    "top": "150px",
    "width": "421.17645263671875px"
   },
   "toc_section_display": true,
   "toc_window_display": true
  }
 },
 "nbformat": 4,
 "nbformat_minor": 1
}
